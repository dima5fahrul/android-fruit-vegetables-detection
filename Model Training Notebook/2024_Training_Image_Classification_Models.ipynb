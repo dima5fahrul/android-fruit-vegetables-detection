{
  "cells": [
    {
      "cell_type": "markdown",
      "metadata": {
        "id": "MV623BdUWnhh"
      },
      "source": [
        "## Importing Libraries"
      ]
    },
    {
      "cell_type": "code",
      "execution_count": 1,
      "metadata": {
        "colab": {
          "base_uri": "https://localhost:8080/"
        },
        "id": "fOHfaTNrbe3v",
        "outputId": "41dedea4-6657-4caf-e506-27f6fd2e2830"
      },
      "outputs": [
        {
          "name": "stdout",
          "output_type": "stream",
          "text": [
            "Requirement already satisfied: pip in /opt/anaconda3/lib/python3.12/site-packages (24.0)\n",
            "Collecting pip\n",
            "  Downloading pip-24.2-py3-none-any.whl.metadata (3.6 kB)\n",
            "Downloading pip-24.2-py3-none-any.whl (1.8 MB)\n",
            "\u001b[2K   \u001b[90m━━━━━━━━━━━━━━━━━━━━━━━━━━━━━━━━━━━━━━━━\u001b[0m \u001b[32m1.8/1.8 MB\u001b[0m \u001b[31m7.1 MB/s\u001b[0m eta \u001b[36m0:00:00\u001b[0ma \u001b[36m0:00:01\u001b[0m\n",
            "\u001b[?25hInstalling collected packages: pip\n",
            "  Attempting uninstall: pip\n",
            "    Found existing installation: pip 24.0\n",
            "    Uninstalling pip-24.0:\n",
            "      Successfully uninstalled pip-24.0\n",
            "Successfully installed pip-24.2\n",
            "Collecting mediapipe-model-maker\n",
            "  Downloading mediapipe_model_maker-0.2.1.4-py3-none-any.whl.metadata (1.7 kB)\n",
            "Requirement already satisfied: absl-py in /opt/anaconda3/lib/python3.12/site-packages (from mediapipe-model-maker) (2.1.0)\n",
            "Collecting mediapipe>=0.10.0 (from mediapipe-model-maker)\n",
            "  Downloading mediapipe-0.10.14-cp312-cp312-macosx_11_0_universal2.whl.metadata (9.7 kB)\n",
            "Requirement already satisfied: numpy in /opt/anaconda3/lib/python3.12/site-packages (from mediapipe-model-maker) (1.26.4)\n",
            "Collecting opencv-python (from mediapipe-model-maker)\n",
            "  Downloading opencv_python-4.10.0.84-cp37-abi3-macosx_11_0_arm64.whl.metadata (20 kB)\n",
            "INFO: pip is looking at multiple versions of mediapipe-model-maker to determine which version is compatible with other requirements. This could take a while.\n",
            "Collecting mediapipe-model-maker\n",
            "  Downloading mediapipe_model_maker-0.2.1.3-py3-none-any.whl.metadata (1.6 kB)\n",
            "Requirement already satisfied: tensorflow>=2.10 in /opt/anaconda3/lib/python3.12/site-packages (from mediapipe-model-maker) (2.16.2)\n",
            "  Downloading mediapipe_model_maker-0.2.1.2-py3-none-any.whl.metadata (1.6 kB)\n",
            "  Downloading mediapipe_model_maker-0.2.1.1-py3-none-any.whl.metadata (1.6 kB)\n",
            "  Downloading mediapipe_model_maker-0.2.1-py3-none-any.whl.metadata (1.6 kB)\n",
            "  Downloading mediapipe_model_maker-0.2.0-py3-none-any.whl.metadata (1.5 kB)\n",
            "Collecting tensorflow-datasets (from mediapipe-model-maker)\n",
            "  Downloading tensorflow_datasets-4.9.6-py3-none-any.whl.metadata (9.5 kB)\n",
            "Collecting tensorflow-hub (from mediapipe-model-maker)\n",
            "  Downloading tensorflow_hub-0.16.1-py2.py3-none-any.whl.metadata (1.3 kB)\n",
            "Collecting tf-models-official==2.11.6 (from mediapipe-model-maker)\n",
            "  Downloading tf_models_official-2.11.6-py2.py3-none-any.whl.metadata (1.5 kB)\n",
            "Requirement already satisfied: Cython in /opt/anaconda3/lib/python3.12/site-packages (from tf-models-official==2.11.6->mediapipe-model-maker) (3.0.10)\n",
            "Requirement already satisfied: Pillow in /opt/anaconda3/lib/python3.12/site-packages (from tf-models-official==2.11.6->mediapipe-model-maker) (10.3.0)\n",
            "Collecting gin-config (from tf-models-official==2.11.6->mediapipe-model-maker)\n",
            "  Downloading gin_config-0.5.0-py3-none-any.whl.metadata (2.9 kB)\n",
            "Collecting google-api-python-client>=1.6.7 (from tf-models-official==2.11.6->mediapipe-model-maker)\n",
            "  Downloading google_api_python_client-2.140.0-py2.py3-none-any.whl.metadata (6.7 kB)\n",
            "Collecting immutabledict (from tf-models-official==2.11.6->mediapipe-model-maker)\n",
            "  Downloading immutabledict-4.2.0-py3-none-any.whl.metadata (3.4 kB)\n",
            "Collecting kaggle>=1.3.9 (from tf-models-official==2.11.6->mediapipe-model-maker)\n",
            "  Downloading kaggle-1.6.17.tar.gz (82 kB)\n",
            "  Preparing metadata (setup.py) ... \u001b[?25ldone\n",
            "\u001b[?25hRequirement already satisfied: matplotlib in /opt/anaconda3/lib/python3.12/site-packages (from tf-models-official==2.11.6->mediapipe-model-maker) (3.9.0)\n",
            "Collecting oauth2client (from tf-models-official==2.11.6->mediapipe-model-maker)\n",
            "  Downloading oauth2client-4.1.3-py2.py3-none-any.whl.metadata (1.2 kB)\n",
            "Collecting opencv-python-headless (from tf-models-official==2.11.6->mediapipe-model-maker)\n",
            "  Downloading opencv_python_headless-4.10.0.84-cp37-abi3-macosx_11_0_arm64.whl.metadata (20 kB)\n",
            "Requirement already satisfied: pandas>=0.22.0 in /opt/anaconda3/lib/python3.12/site-packages (from tf-models-official==2.11.6->mediapipe-model-maker) (2.2.2)\n",
            "Requirement already satisfied: psutil>=5.4.3 in /opt/anaconda3/lib/python3.12/site-packages (from tf-models-official==2.11.6->mediapipe-model-maker) (5.9.0)\n",
            "Requirement already satisfied: py-cpuinfo>=3.3.0 in /opt/anaconda3/lib/python3.12/site-packages (from tf-models-official==2.11.6->mediapipe-model-maker) (9.0.0)\n",
            "Collecting pycocotools (from tf-models-official==2.11.6->mediapipe-model-maker)\n",
            "  Downloading pycocotools-2.0.8-cp312-cp312-macosx_10_9_universal2.whl.metadata (1.1 kB)\n",
            "Collecting pyyaml<6.0,>=5.1 (from tf-models-official==2.11.6->mediapipe-model-maker)\n",
            "  Downloading PyYAML-5.4.1.tar.gz (175 kB)\n",
            "  Installing build dependencies ... \u001b[?25ldone\n",
            "\u001b[?25h  Getting requirements to build wheel ... \u001b[?25lerror\n",
            "  \u001b[1;31merror\u001b[0m: \u001b[1msubprocess-exited-with-error\u001b[0m\n",
            "  \n",
            "  \u001b[31m×\u001b[0m \u001b[32mGetting requirements to build wheel\u001b[0m did not run successfully.\n",
            "  \u001b[31m│\u001b[0m exit code: \u001b[1;36m1\u001b[0m\n",
            "  \u001b[31m╰─>\u001b[0m \u001b[31m[54 lines of output]\u001b[0m\n",
            "  \u001b[31m   \u001b[0m running egg_info\n",
            "  \u001b[31m   \u001b[0m writing lib3/PyYAML.egg-info/PKG-INFO\n",
            "  \u001b[31m   \u001b[0m writing dependency_links to lib3/PyYAML.egg-info/dependency_links.txt\n",
            "  \u001b[31m   \u001b[0m writing top-level names to lib3/PyYAML.egg-info/top_level.txt\n",
            "  \u001b[31m   \u001b[0m Traceback (most recent call last):\n",
            "  \u001b[31m   \u001b[0m   File \"/opt/anaconda3/lib/python3.12/site-packages/pip/_vendor/pyproject_hooks/_in_process/_in_process.py\", line 353, in <module>\n",
            "  \u001b[31m   \u001b[0m     main()\n",
            "  \u001b[31m   \u001b[0m   File \"/opt/anaconda3/lib/python3.12/site-packages/pip/_vendor/pyproject_hooks/_in_process/_in_process.py\", line 335, in main\n",
            "  \u001b[31m   \u001b[0m     json_out['return_val'] = hook(**hook_input['kwargs'])\n",
            "  \u001b[31m   \u001b[0m                              ^^^^^^^^^^^^^^^^^^^^^^^^^^^^\n",
            "  \u001b[31m   \u001b[0m   File \"/opt/anaconda3/lib/python3.12/site-packages/pip/_vendor/pyproject_hooks/_in_process/_in_process.py\", line 118, in get_requires_for_build_wheel\n",
            "  \u001b[31m   \u001b[0m     return hook(config_settings)\n",
            "  \u001b[31m   \u001b[0m            ^^^^^^^^^^^^^^^^^^^^^\n",
            "  \u001b[31m   \u001b[0m   File \"/private/var/folders/b_/vx5_75517xs2flsc7v0wyfm00000gn/T/pip-build-env-od405gsz/overlay/lib/python3.12/site-packages/setuptools/build_meta.py\", line 327, in get_requires_for_build_wheel\n",
            "  \u001b[31m   \u001b[0m     return self._get_build_requires(config_settings, requirements=[])\n",
            "  \u001b[31m   \u001b[0m            ^^^^^^^^^^^^^^^^^^^^^^^^^^^^^^^^^^^^^^^^^^^^^^^^^^^^^^^^^^\n",
            "  \u001b[31m   \u001b[0m   File \"/private/var/folders/b_/vx5_75517xs2flsc7v0wyfm00000gn/T/pip-build-env-od405gsz/overlay/lib/python3.12/site-packages/setuptools/build_meta.py\", line 297, in _get_build_requires\n",
            "  \u001b[31m   \u001b[0m     self.run_setup()\n",
            "  \u001b[31m   \u001b[0m   File \"/private/var/folders/b_/vx5_75517xs2flsc7v0wyfm00000gn/T/pip-build-env-od405gsz/overlay/lib/python3.12/site-packages/setuptools/build_meta.py\", line 313, in run_setup\n",
            "  \u001b[31m   \u001b[0m     exec(code, locals())\n",
            "  \u001b[31m   \u001b[0m   File \"<string>\", line 271, in <module>\n",
            "  \u001b[31m   \u001b[0m   File \"/private/var/folders/b_/vx5_75517xs2flsc7v0wyfm00000gn/T/pip-build-env-od405gsz/overlay/lib/python3.12/site-packages/setuptools/__init__.py\", line 108, in setup\n",
            "  \u001b[31m   \u001b[0m     return distutils.core.setup(**attrs)\n",
            "  \u001b[31m   \u001b[0m            ^^^^^^^^^^^^^^^^^^^^^^^^^^^^^\n",
            "  \u001b[31m   \u001b[0m   File \"/private/var/folders/b_/vx5_75517xs2flsc7v0wyfm00000gn/T/pip-build-env-od405gsz/overlay/lib/python3.12/site-packages/setuptools/_distutils/core.py\", line 184, in setup\n",
            "  \u001b[31m   \u001b[0m     return run_commands(dist)\n",
            "  \u001b[31m   \u001b[0m            ^^^^^^^^^^^^^^^^^^\n",
            "  \u001b[31m   \u001b[0m   File \"/private/var/folders/b_/vx5_75517xs2flsc7v0wyfm00000gn/T/pip-build-env-od405gsz/overlay/lib/python3.12/site-packages/setuptools/_distutils/core.py\", line 200, in run_commands\n",
            "  \u001b[31m   \u001b[0m     dist.run_commands()\n",
            "  \u001b[31m   \u001b[0m   File \"/private/var/folders/b_/vx5_75517xs2flsc7v0wyfm00000gn/T/pip-build-env-od405gsz/overlay/lib/python3.12/site-packages/setuptools/_distutils/dist.py\", line 970, in run_commands\n",
            "  \u001b[31m   \u001b[0m     self.run_command(cmd)\n",
            "  \u001b[31m   \u001b[0m   File \"/private/var/folders/b_/vx5_75517xs2flsc7v0wyfm00000gn/T/pip-build-env-od405gsz/overlay/lib/python3.12/site-packages/setuptools/dist.py\", line 945, in run_command\n",
            "  \u001b[31m   \u001b[0m     super().run_command(command)\n",
            "  \u001b[31m   \u001b[0m   File \"/private/var/folders/b_/vx5_75517xs2flsc7v0wyfm00000gn/T/pip-build-env-od405gsz/overlay/lib/python3.12/site-packages/setuptools/_distutils/dist.py\", line 989, in run_command\n",
            "  \u001b[31m   \u001b[0m     cmd_obj.run()\n",
            "  \u001b[31m   \u001b[0m   File \"/private/var/folders/b_/vx5_75517xs2flsc7v0wyfm00000gn/T/pip-build-env-od405gsz/overlay/lib/python3.12/site-packages/setuptools/command/egg_info.py\", line 310, in run\n",
            "  \u001b[31m   \u001b[0m     self.find_sources()\n",
            "  \u001b[31m   \u001b[0m   File \"/private/var/folders/b_/vx5_75517xs2flsc7v0wyfm00000gn/T/pip-build-env-od405gsz/overlay/lib/python3.12/site-packages/setuptools/command/egg_info.py\", line 318, in find_sources\n",
            "  \u001b[31m   \u001b[0m     mm.run()\n",
            "  \u001b[31m   \u001b[0m   File \"/private/var/folders/b_/vx5_75517xs2flsc7v0wyfm00000gn/T/pip-build-env-od405gsz/overlay/lib/python3.12/site-packages/setuptools/command/egg_info.py\", line 539, in run\n",
            "  \u001b[31m   \u001b[0m     self.add_defaults()\n",
            "  \u001b[31m   \u001b[0m   File \"/private/var/folders/b_/vx5_75517xs2flsc7v0wyfm00000gn/T/pip-build-env-od405gsz/overlay/lib/python3.12/site-packages/setuptools/command/egg_info.py\", line 577, in add_defaults\n",
            "  \u001b[31m   \u001b[0m     sdist.add_defaults(self)\n",
            "  \u001b[31m   \u001b[0m   File \"/private/var/folders/b_/vx5_75517xs2flsc7v0wyfm00000gn/T/pip-build-env-od405gsz/overlay/lib/python3.12/site-packages/setuptools/command/sdist.py\", line 102, in add_defaults\n",
            "  \u001b[31m   \u001b[0m     super().add_defaults()\n",
            "  \u001b[31m   \u001b[0m   File \"/private/var/folders/b_/vx5_75517xs2flsc7v0wyfm00000gn/T/pip-build-env-od405gsz/overlay/lib/python3.12/site-packages/setuptools/_distutils/command/sdist.py\", line 250, in add_defaults\n",
            "  \u001b[31m   \u001b[0m     self._add_defaults_ext()\n",
            "  \u001b[31m   \u001b[0m   File \"/private/var/folders/b_/vx5_75517xs2flsc7v0wyfm00000gn/T/pip-build-env-od405gsz/overlay/lib/python3.12/site-packages/setuptools/_distutils/command/sdist.py\", line 335, in _add_defaults_ext\n",
            "  \u001b[31m   \u001b[0m     self.filelist.extend(build_ext.get_source_files())\n",
            "  \u001b[31m   \u001b[0m                          ^^^^^^^^^^^^^^^^^^^^^^^^^^^^\n",
            "  \u001b[31m   \u001b[0m   File \"<string>\", line 201, in get_source_files\n",
            "  \u001b[31m   \u001b[0m   File \"/private/var/folders/b_/vx5_75517xs2flsc7v0wyfm00000gn/T/pip-build-env-od405gsz/overlay/lib/python3.12/site-packages/setuptools/_distutils/cmd.py\", line 107, in __getattr__\n",
            "  \u001b[31m   \u001b[0m     raise AttributeError(attr)\n",
            "  \u001b[31m   \u001b[0m AttributeError: cython_sources\n",
            "  \u001b[31m   \u001b[0m \u001b[31m[end of output]\u001b[0m\n",
            "  \n",
            "  \u001b[1;35mnote\u001b[0m: This error originates from a subprocess, and is likely not a problem with pip.\n",
            "\u001b[?25h\u001b[1;31merror\u001b[0m: \u001b[1msubprocess-exited-with-error\u001b[0m\n",
            "\n",
            "\u001b[31m×\u001b[0m \u001b[32mGetting requirements to build wheel\u001b[0m did not run successfully.\n",
            "\u001b[31m│\u001b[0m exit code: \u001b[1;36m1\u001b[0m\n",
            "\u001b[31m╰─>\u001b[0m See above for output.\n",
            "\n",
            "\u001b[1;35mnote\u001b[0m: This error originates from a subprocess, and is likely not a problem with pip.\n"
          ]
        }
      ],
      "source": [
        "!pip install --upgrade pip\n",
        "!pip install mediapipe-model-maker"
      ]
    },
    {
      "cell_type": "code",
      "execution_count": null,
      "metadata": {
        "colab": {
          "base_uri": "https://localhost:8080/"
        },
        "id": "Oj2Z0U25byZT",
        "outputId": "657dbf10-be5e-4ea1-8da9-c036461f22f4"
      },
      "outputs": [
        {
          "name": "stderr",
          "output_type": "stream",
          "text": [
            "/usr/local/lib/python3.10/dist-packages/tensorflow_addons/utils/tfa_eol_msg.py:23: UserWarning: \n",
            "\n",
            "TensorFlow Addons (TFA) has ended development and introduction of new features.\n",
            "TFA has entered a minimal maintenance and release mode until a planned end of life in May 2024.\n",
            "Please modify downstream libraries to take dependencies from other repositories in our TensorFlow community (e.g. Keras, Keras-CV, and Keras-NLP). \n",
            "\n",
            "For more information see: https://github.com/tensorflow/addons/issues/2807 \n",
            "\n",
            "  warnings.warn(\n"
          ]
        }
      ],
      "source": [
        "from google.colab import files\n",
        "import os\n",
        "import tensorflow as tf\n",
        "assert tf.__version__.startswith('2')\n",
        "\n",
        "from mediapipe_model_maker import image_classifier\n",
        "\n",
        "import matplotlib.pyplot as plt"
      ]
    },
    {
      "cell_type": "markdown",
      "metadata": {
        "id": "xtYUcoU0Wwaa"
      },
      "source": [
        "## Loading Dataset"
      ]
    },
    {
      "cell_type": "code",
      "execution_count": null,
      "metadata": {
        "colab": {
          "base_uri": "https://localhost:8080/"
        },
        "id": "56cIsfwK5YQY",
        "outputId": "715a79b2-fb61-4205-e13e-4ef6848079e6"
      },
      "outputs": [
        {
          "name": "stdout",
          "output_type": "stream",
          "text": [
            "Mounted at /content/drive\n"
          ]
        }
      ],
      "source": [
        "#save final weights to google drive\n",
        "from google.colab import drive\n",
        "drive.mount('/content/drive')"
      ]
    },
    {
      "cell_type": "code",
      "execution_count": null,
      "metadata": {
        "colab": {
          "base_uri": "https://localhost:8080/"
        },
        "id": "pRUe01fg1wmG",
        "outputId": "ff797950-425a-49b7-95a4-3c1a2356336c"
      },
      "outputs": [
        {
          "name": "stdout",
          "output_type": "stream",
          "text": [
            "Archive:  /content/drive/MyDrive/2023FlutterML/FruitsDataset.zip\n",
            "   creating: FruitsDataset/\n",
            "   creating: FruitsDataset/bananas/\n",
            "   creating: FruitsDataset/pineapples/\n",
            "  inflating: FruitsDataset/.DS_Store  \n",
            "  inflating: __MACOSX/FruitsDataset/._.DS_Store  \n",
            "   creating: FruitsDataset/watermelons/\n",
            "   creating: FruitsDataset/apples/\n",
            "  inflating: FruitsDataset/bananas/49.jpg  \n",
            "  inflating: FruitsDataset/bananas/8.jpg  \n",
            "  inflating: FruitsDataset/bananas/9.jpg  \n",
            "  inflating: FruitsDataset/bananas/14.jpg  \n",
            "  inflating: FruitsDataset/bananas/28.jpg  \n",
            "  inflating: FruitsDataset/bananas/29.jpg  \n",
            "  inflating: FruitsDataset/bananas/15.jpg  \n",
            "  inflating: FruitsDataset/bananas/17.jpg  \n",
            "  inflating: FruitsDataset/bananas/16.jpg  \n",
            "  inflating: FruitsDataset/bananas/12.jpg  \n",
            "  inflating: FruitsDataset/bananas/13.jpg  \n",
            "  inflating: FruitsDataset/bananas/39.jpg  \n",
            "  inflating: FruitsDataset/bananas/11.jpg  \n",
            "  inflating: FruitsDataset/bananas/10.jpg  \n",
            "  inflating: FruitsDataset/bananas/38.jpg  \n",
            "  inflating: FruitsDataset/bananas/21.jpg  \n",
            "  inflating: FruitsDataset/bananas/35.jpg  \n",
            "  inflating: FruitsDataset/bananas/34.jpg  \n",
            "  inflating: FruitsDataset/bananas/36.jpg  \n",
            "  inflating: FruitsDataset/bananas/22.jpg  \n",
            "  inflating: FruitsDataset/bananas/23.jpg  \n",
            "  inflating: FruitsDataset/bananas/37.jpg  \n",
            "  inflating: FruitsDataset/bananas/27.jpg  \n",
            "  inflating: FruitsDataset/bananas/26.jpg  \n",
            "  inflating: FruitsDataset/bananas/32.jpg  \n",
            "  inflating: FruitsDataset/bananas/30.jpg  \n",
            "  inflating: FruitsDataset/bananas/31.jpg  \n",
            "  inflating: FruitsDataset/bananas/42.jpg  \n",
            "  inflating: FruitsDataset/bananas/4.jpg  \n",
            "  inflating: FruitsDataset/bananas/5.jpg  \n",
            "  inflating: FruitsDataset/bananas/43.jpg  \n",
            "  inflating: FruitsDataset/bananas/40.jpg  \n",
            "  inflating: FruitsDataset/bananas/54.jpg  \n",
            "  inflating: FruitsDataset/bananas/6.jpg  \n",
            "  inflating: FruitsDataset/bananas/2.jpg  \n",
            "  inflating: FruitsDataset/bananas/50.jpg  \n",
            "  inflating: FruitsDataset/bananas/3.jpg  \n",
            "  inflating: FruitsDataset/bananas/51.jpg  \n",
            "  inflating: FruitsDataset/bananas/47.jpg  \n",
            "  inflating: FruitsDataset/bananas/53.jpg  \n",
            "  inflating: FruitsDataset/bananas/1.jpg  \n",
            "  inflating: FruitsDataset/bananas/52.jpg  \n",
            "  inflating: FruitsDataset/pineapples/48.jpg  \n",
            "  inflating: FruitsDataset/pineapples/9.jpg  \n",
            "  inflating: FruitsDataset/pineapples/14.jpg  \n",
            "  inflating: FruitsDataset/pineapples/17.jpg  \n",
            "  inflating: FruitsDataset/pineapples/16.jpg  \n",
            "  inflating: FruitsDataset/pineapples/12.jpg  \n",
            "  inflating: FruitsDataset/pineapples/13.jpg  \n",
            "  inflating: FruitsDataset/pineapples/11.jpg  \n",
            "  inflating: FruitsDataset/pineapples/38.jpg  \n",
            "  inflating: FruitsDataset/pineapples/21.jpg  \n",
            "  inflating: FruitsDataset/pineapples/35.jpg  \n",
            "  inflating: FruitsDataset/pineapples/20.jpg  \n",
            "  inflating: FruitsDataset/pineapples/36.jpg  \n",
            "  inflating: FruitsDataset/pineapples/22.jpg  \n",
            "  inflating: FruitsDataset/pineapples/23.jpg  \n",
            "  inflating: FruitsDataset/pineapples/33.jpg  \n",
            "  inflating: FruitsDataset/pineapples/27.jpg  \n",
            "  inflating: FruitsDataset/pineapples/32.jpg  \n",
            "  inflating: FruitsDataset/pineapples/18.jpg  \n",
            "  inflating: FruitsDataset/pineapples/24.jpg  \n",
            "  inflating: FruitsDataset/pineapples/31.jpg  \n",
            "  inflating: FruitsDataset/pineapples/25.jpg  \n",
            "  inflating: FruitsDataset/pineapples/19.jpg  \n",
            "  inflating: FruitsDataset/pineapples/4.jpg  \n",
            "  inflating: FruitsDataset/pineapples/7.jpg  \n",
            "  inflating: FruitsDataset/pineapples/41.jpg  \n",
            "  inflating: FruitsDataset/pineapples/40.jpg  \n",
            "  inflating: FruitsDataset/pineapples/6.jpg  \n",
            "  inflating: FruitsDataset/pineapples/2.jpg  \n",
            "  inflating: FruitsDataset/pineapples/50.jpg  \n",
            "  inflating: FruitsDataset/pineapples/44.jpg  \n",
            "  inflating: FruitsDataset/pineapples/53.jpg  \n",
            "  inflating: FruitsDataset/pineapples/1.jpg  \n",
            "  inflating: FruitsDataset/pineapples/52.jpg  \n",
            "  inflating: FruitsDataset/watermelons/48.jpg  \n",
            "  inflating: FruitsDataset/watermelons/49.jpg  \n",
            "  inflating: FruitsDataset/watermelons/8.jpg  \n",
            "  inflating: FruitsDataset/watermelons/9.jpg  \n",
            "  inflating: FruitsDataset/watermelons/14.jpg  \n",
            "  inflating: FruitsDataset/watermelons/28.jpg  \n",
            "  inflating: FruitsDataset/watermelons/16.jpg  \n",
            "  inflating: FruitsDataset/watermelons/12.jpg  \n",
            "  inflating: FruitsDataset/watermelons/13.jpg  \n",
            "  inflating: FruitsDataset/watermelons/10.jpg  \n",
            "  inflating: FruitsDataset/watermelons/38.jpg  \n",
            "  inflating: FruitsDataset/watermelons/21.jpg  \n",
            "  inflating: FruitsDataset/watermelons/20.jpg  \n",
            "  inflating: FruitsDataset/watermelons/23.jpg  \n",
            "  inflating: FruitsDataset/watermelons/37.jpg  \n",
            "  inflating: FruitsDataset/watermelons/27.jpg  \n",
            "  inflating: FruitsDataset/watermelons/18.jpg  \n",
            "  inflating: FruitsDataset/watermelons/24.jpg  \n",
            "  inflating: FruitsDataset/watermelons/30.jpg  \n",
            "  inflating: FruitsDataset/watermelons/42.jpg  \n",
            "  inflating: FruitsDataset/watermelons/4.jpg  \n",
            "  inflating: FruitsDataset/watermelons/5.jpg  \n",
            "  inflating: FruitsDataset/watermelons/7.jpg  \n",
            "  inflating: FruitsDataset/watermelons/2.jpg  \n",
            "  inflating: FruitsDataset/watermelons/50.jpg  \n",
            "  inflating: FruitsDataset/watermelons/3.jpg  \n",
            "  inflating: FruitsDataset/watermelons/47.jpg  \n",
            "  inflating: FruitsDataset/watermelons/53.jpg  \n",
            "  inflating: FruitsDataset/watermelons/1.jpg  \n",
            "  inflating: FruitsDataset/watermelons/52.jpg  \n",
            "  inflating: FruitsDataset/watermelons/46.jpg  \n",
            "  inflating: FruitsDataset/apples/49.jpg  \n",
            "  inflating: FruitsDataset/apples/8.jpg  \n",
            "  inflating: FruitsDataset/apples/9.jpg  \n",
            "  inflating: FruitsDataset/apples/14.jpg  \n",
            "  inflating: FruitsDataset/apples/28.jpg  \n",
            "  inflating: FruitsDataset/apples/15.jpg  \n",
            "  inflating: FruitsDataset/apples/17.jpg  \n",
            "  inflating: FruitsDataset/apples/16.jpg  \n",
            "  inflating: FruitsDataset/apples/12.jpg  \n",
            "  inflating: FruitsDataset/apples/13.jpg  \n",
            "  inflating: FruitsDataset/apples/11.jpg  \n",
            "  inflating: FruitsDataset/apples/10.jpg  \n",
            "  inflating: FruitsDataset/apples/38.jpg  \n",
            "  inflating: FruitsDataset/apples/35.jpg  \n",
            "  inflating: FruitsDataset/apples/34.jpg  \n",
            "  inflating: FruitsDataset/apples/20.jpg  \n",
            "  inflating: FruitsDataset/apples/22.jpg  \n",
            "  inflating: FruitsDataset/apples/23.jpg  \n",
            "  inflating: FruitsDataset/apples/26.jpg  \n",
            "  inflating: FruitsDataset/apples/32.jpg  \n",
            "  inflating: FruitsDataset/apples/24.jpg  \n",
            "  inflating: FruitsDataset/apples/25.jpg  \n",
            "  inflating: FruitsDataset/apples/19.jpg  \n",
            "  inflating: FruitsDataset/apples/42.jpg  \n",
            "  inflating: FruitsDataset/apples/4.jpg  \n",
            "  inflating: FruitsDataset/apples/55.jpg  \n",
            "  inflating: FruitsDataset/apples/7.jpg  \n",
            "  inflating: FruitsDataset/apples/41.jpg  \n",
            "  inflating: FruitsDataset/apples/40.jpg  \n",
            "  inflating: FruitsDataset/apples/54.jpg  \n",
            "  inflating: FruitsDataset/apples/2.jpg  \n",
            "  inflating: FruitsDataset/apples/50.jpg  \n",
            "  inflating: FruitsDataset/apples/3.jpg  \n",
            "  inflating: FruitsDataset/apples/47.jpg  \n",
            "  inflating: FruitsDataset/apples/1.jpg  \n",
            "  inflating: FruitsDataset/apples/52.jpg  \n",
            "  inflating: FruitsDataset/apples/0.jpg  \n",
            "  inflating: FruitsDataset/apples/46.jpg  \n"
          ]
        }
      ],
      "source": [
        "zip_file_name = \"/content/drive/MyDrive/FruitsDataset\" #@param {type:\"string\"}\n",
        "!unzip {zip_file_name}.zip"
      ]
    },
    {
      "cell_type": "code",
      "execution_count": null,
      "metadata": {
        "id": "8h1bxmGDqjvq"
      },
      "outputs": [],
      "source": [
        "image_path = '/content/FruitsDataset'"
      ]
    },
    {
      "cell_type": "code",
      "execution_count": null,
      "metadata": {
        "colab": {
          "base_uri": "https://localhost:8080/"
        },
        "id": "H6h7tu1tdcGp",
        "outputId": "b5ced00f-18bc-41d6-ac2a-a124011e84db"
      },
      "outputs": [
        {
          "name": "stdout",
          "output_type": "stream",
          "text": [
            "/content/FruitsDataset\n",
            "['bananas', 'watermelons', 'pineapples', 'apples']\n"
          ]
        }
      ],
      "source": [
        "print(image_path)\n",
        "labels = []\n",
        "for i in os.listdir(image_path):\n",
        "  if os.path.isdir(os.path.join(image_path, i)):\n",
        "    labels.append(i)\n",
        "print(labels)"
      ]
    },
    {
      "cell_type": "code",
      "execution_count": null,
      "metadata": {
        "id": "G-csvUN1dheJ"
      },
      "outputs": [],
      "source": [
        "NUM_EXAMPLES = 5\n",
        "\n",
        "for label in labels:\n",
        "  label_dir = os.path.join(image_path, label)\n",
        "  example_filenames = os.listdir(label_dir)[:NUM_EXAMPLES]\n",
        "  fig, axs = plt.subplots(1, NUM_EXAMPLES, figsize=(10,2))\n",
        "  for i in range(NUM_EXAMPLES):\n",
        "    axs[i].imshow(plt.imread(os.path.join(label_dir, example_filenames[i])))\n",
        "    axs[i].get_xaxis().set_visible(False)\n",
        "    axs[i].get_yaxis().set_visible(False)\n",
        "  fig.suptitle(f'Showing {NUM_EXAMPLES} examples for {label}')\n",
        "\n",
        "plt.show()"
      ]
    },
    {
      "cell_type": "code",
      "execution_count": null,
      "metadata": {
        "id": "MKJP_8wudnI5"
      },
      "outputs": [],
      "source": [
        "data = image_classifier.Dataset.from_folder(image_path)\n",
        "train_data, remaining_data = data.split(0.9)\n",
        "test_data, validation_data = remaining_data.split(0.5)"
      ]
    },
    {
      "cell_type": "markdown",
      "metadata": {
        "id": "FJctF7BzW4JJ"
      },
      "source": [
        "## Model Training"
      ]
    },
    {
      "cell_type": "code",
      "execution_count": null,
      "metadata": {
        "id": "P2-1IxmXdrYh"
      },
      "outputs": [],
      "source": [
        "spec = image_classifier.SupportedModels.EFFICIENTNET_LITE2\n",
        "hparams = image_classifier.HParams(export_dir=\"exported_model\",epochs=50)\n",
        "options = image_classifier.ImageClassifierOptions(supported_model=spec, hparams=hparams)"
      ]
    },
    {
      "cell_type": "code",
      "execution_count": null,
      "metadata": {
        "colab": {
          "base_uri": "https://localhost:8080/"
        },
        "id": "xgPL3hMAdvah",
        "outputId": "5b6c662e-8995-4f8d-932c-d2455fc289c1"
      },
      "outputs": [
        {
          "name": "stderr",
          "output_type": "stream",
          "text": [
            "WARNING:tensorflow:`period` argument is deprecated. Please use `save_freq` to specify the frequency in number of batches seen.\n"
          ]
        },
        {
          "name": "stdout",
          "output_type": "stream",
          "text": [
            "Model: \"sequential_2\"\n",
            "_________________________________________________________________\n",
            " Layer (type)                Output Shape              Param #   \n",
            "=================================================================\n",
            " keras_layer_2 (KerasLayer)  (None, 1280)              4869168   \n",
            "                                                                 \n",
            " dropout_2 (Dropout)         (None, 1280)              0         \n",
            "                                                                 \n",
            " dense_2 (Dense)             (None, 4)                 5124      \n",
            "                                                                 \n",
            "=================================================================\n",
            "Total params: 4874292 (18.59 MB)\n",
            "Trainable params: 5124 (20.02 KB)\n",
            "Non-trainable params: 4869168 (18.57 MB)\n",
            "_________________________________________________________________\n",
            "None\n",
            "Resuming from exported_model/checkpoint/model-0010\n",
            "Epoch 1/50\n",
            "65/65 [==============================] - 19s 235ms/step - loss: 0.4456 - accuracy: 1.0000 - val_loss: 0.4424 - val_accuracy: 1.0000\n",
            "Epoch 2/50\n",
            "65/65 [==============================] - 16s 239ms/step - loss: 0.4412 - accuracy: 0.9846 - val_loss: 0.4363 - val_accuracy: 1.0000\n",
            "Epoch 3/50\n",
            "65/65 [==============================] - 15s 232ms/step - loss: 0.4194 - accuracy: 1.0000 - val_loss: 0.4254 - val_accuracy: 1.0000\n",
            "Epoch 4/50\n",
            "65/65 [==============================] - 17s 256ms/step - loss: 0.4296 - accuracy: 0.9846 - val_loss: 0.4202 - val_accuracy: 1.0000\n",
            "Epoch 5/50\n",
            "65/65 [==============================] - 15s 229ms/step - loss: 0.4097 - accuracy: 1.0000 - val_loss: 0.4172 - val_accuracy: 1.0000\n",
            "Epoch 6/50\n",
            "65/65 [==============================] - 15s 232ms/step - loss: 0.4054 - accuracy: 1.0000 - val_loss: 0.4184 - val_accuracy: 1.0000\n",
            "Epoch 7/50\n",
            "65/65 [==============================] - 14s 213ms/step - loss: 0.4133 - accuracy: 0.9769 - val_loss: 0.4154 - val_accuracy: 1.0000\n",
            "Epoch 8/50\n",
            "65/65 [==============================] - 14s 222ms/step - loss: 0.4003 - accuracy: 1.0000 - val_loss: 0.4127 - val_accuracy: 1.0000\n",
            "Epoch 9/50\n",
            "65/65 [==============================] - 13s 189ms/step - loss: 0.4099 - accuracy: 0.9923 - val_loss: 0.4120 - val_accuracy: 1.0000\n",
            "Epoch 10/50\n",
            "65/65 [==============================] - 15s 224ms/step - loss: 0.4050 - accuracy: 0.9846 - val_loss: 0.4126 - val_accuracy: 1.0000\n",
            "Epoch 11/50\n",
            "65/65 [==============================] - 14s 222ms/step - loss: 0.4078 - accuracy: 1.0000 - val_loss: 0.4079 - val_accuracy: 1.0000\n",
            "Epoch 12/50\n",
            "65/65 [==============================] - 14s 208ms/step - loss: 0.4011 - accuracy: 1.0000 - val_loss: 0.4070 - val_accuracy: 1.0000\n",
            "Epoch 13/50\n",
            "65/65 [==============================] - 12s 189ms/step - loss: 0.4111 - accuracy: 0.9846 - val_loss: 0.4055 - val_accuracy: 1.0000\n",
            "Epoch 14/50\n",
            "65/65 [==============================] - 14s 205ms/step - loss: 0.4092 - accuracy: 0.9923 - val_loss: 0.4053 - val_accuracy: 1.0000\n",
            "Epoch 15/50\n",
            "65/65 [==============================] - 15s 230ms/step - loss: 0.3846 - accuracy: 1.0000 - val_loss: 0.4025 - val_accuracy: 1.0000\n",
            "Epoch 16/50\n",
            "65/65 [==============================] - 14s 209ms/step - loss: 0.3854 - accuracy: 1.0000 - val_loss: 0.4014 - val_accuracy: 1.0000\n",
            "Epoch 17/50\n",
            "65/65 [==============================] - 12s 182ms/step - loss: 0.4010 - accuracy: 0.9923 - val_loss: 0.3982 - val_accuracy: 1.0000\n",
            "Epoch 18/50\n",
            "65/65 [==============================] - 14s 218ms/step - loss: 0.3906 - accuracy: 0.9923 - val_loss: 0.3945 - val_accuracy: 1.0000\n",
            "Epoch 19/50\n",
            "65/65 [==============================] - 14s 221ms/step - loss: 0.3963 - accuracy: 0.9923 - val_loss: 0.3955 - val_accuracy: 1.0000\n",
            "Epoch 20/50\n",
            "65/65 [==============================] - 14s 222ms/step - loss: 0.4006 - accuracy: 1.0000 - val_loss: 0.3923 - val_accuracy: 1.0000\n",
            "Epoch 21/50\n",
            "65/65 [==============================] - 14s 222ms/step - loss: 0.3865 - accuracy: 1.0000 - val_loss: 0.3931 - val_accuracy: 1.0000\n",
            "Epoch 22/50\n",
            "65/65 [==============================] - 14s 220ms/step - loss: 0.3895 - accuracy: 0.9923 - val_loss: 0.3925 - val_accuracy: 1.0000\n",
            "Epoch 23/50\n",
            "65/65 [==============================] - 14s 222ms/step - loss: 0.3815 - accuracy: 1.0000 - val_loss: 0.3891 - val_accuracy: 1.0000\n",
            "Epoch 24/50\n",
            "65/65 [==============================] - 14s 221ms/step - loss: 0.3899 - accuracy: 0.9923 - val_loss: 0.3883 - val_accuracy: 1.0000\n",
            "Epoch 25/50\n",
            "65/65 [==============================] - 15s 223ms/step - loss: 0.3846 - accuracy: 0.9923 - val_loss: 0.3859 - val_accuracy: 1.0000\n",
            "Epoch 26/50\n",
            "65/65 [==============================] - 14s 220ms/step - loss: 0.3920 - accuracy: 0.9923 - val_loss: 0.3845 - val_accuracy: 1.0000\n",
            "Epoch 27/50\n",
            "65/65 [==============================] - 15s 225ms/step - loss: 0.3783 - accuracy: 1.0000 - val_loss: 0.3828 - val_accuracy: 1.0000\n",
            "Epoch 28/50\n",
            "65/65 [==============================] - 12s 185ms/step - loss: 0.3849 - accuracy: 1.0000 - val_loss: 0.3781 - val_accuracy: 1.0000\n",
            "Epoch 29/50\n",
            "65/65 [==============================] - 14s 220ms/step - loss: 0.3911 - accuracy: 0.9846 - val_loss: 0.3804 - val_accuracy: 1.0000\n",
            "Epoch 30/50\n",
            "65/65 [==============================] - 12s 189ms/step - loss: 0.3884 - accuracy: 1.0000 - val_loss: 0.3809 - val_accuracy: 1.0000\n",
            "Epoch 31/50\n",
            "65/65 [==============================] - 14s 209ms/step - loss: 0.3917 - accuracy: 0.9923 - val_loss: 0.3791 - val_accuracy: 1.0000\n",
            "Epoch 32/50\n",
            "65/65 [==============================] - 14s 221ms/step - loss: 0.3954 - accuracy: 1.0000 - val_loss: 0.3810 - val_accuracy: 1.0000\n",
            "Epoch 33/50\n",
            "65/65 [==============================] - 15s 223ms/step - loss: 0.3833 - accuracy: 1.0000 - val_loss: 0.3808 - val_accuracy: 1.0000\n",
            "Epoch 34/50\n",
            "65/65 [==============================] - 15s 229ms/step - loss: 0.3810 - accuracy: 1.0000 - val_loss: 0.3794 - val_accuracy: 1.0000\n",
            "Epoch 35/50\n",
            "65/65 [==============================] - 14s 221ms/step - loss: 0.3917 - accuracy: 0.9923 - val_loss: 0.3820 - val_accuracy: 1.0000\n",
            "Epoch 36/50\n",
            "65/65 [==============================] - 15s 237ms/step - loss: 0.3948 - accuracy: 1.0000 - val_loss: 0.3828 - val_accuracy: 1.0000\n",
            "Epoch 37/50\n",
            "65/65 [==============================] - 14s 221ms/step - loss: 0.3854 - accuracy: 1.0000 - val_loss: 0.3810 - val_accuracy: 1.0000\n",
            "Epoch 38/50\n",
            "65/65 [==============================] - 14s 221ms/step - loss: 0.3944 - accuracy: 0.9846 - val_loss: 0.3810 - val_accuracy: 1.0000\n",
            "Epoch 39/50\n",
            "65/65 [==============================] - 14s 221ms/step - loss: 0.4039 - accuracy: 0.9846 - val_loss: 0.3817 - val_accuracy: 1.0000\n",
            "Epoch 40/50\n",
            "65/65 [==============================] - 14s 209ms/step - loss: 0.3794 - accuracy: 1.0000 - val_loss: 0.3800 - val_accuracy: 1.0000\n",
            "Epoch 41/50\n",
            "65/65 [==============================] - 15s 227ms/step - loss: 0.4088 - accuracy: 0.9846 - val_loss: 0.3818 - val_accuracy: 1.0000\n",
            "Epoch 42/50\n",
            "65/65 [==============================] - 17s 256ms/step - loss: 0.3877 - accuracy: 1.0000 - val_loss: 0.3829 - val_accuracy: 1.0000\n",
            "Epoch 43/50\n",
            "65/65 [==============================] - 14s 216ms/step - loss: 0.3961 - accuracy: 0.9846 - val_loss: 0.3827 - val_accuracy: 1.0000\n",
            "Epoch 44/50\n",
            "65/65 [==============================] - 15s 229ms/step - loss: 0.3897 - accuracy: 0.9923 - val_loss: 0.3795 - val_accuracy: 1.0000\n",
            "Epoch 45/50\n",
            "65/65 [==============================] - 15s 225ms/step - loss: 0.3859 - accuracy: 0.9923 - val_loss: 0.3785 - val_accuracy: 1.0000\n",
            "Epoch 46/50\n",
            "65/65 [==============================] - 13s 204ms/step - loss: 0.3824 - accuracy: 1.0000 - val_loss: 0.3785 - val_accuracy: 1.0000\n",
            "Epoch 47/50\n",
            "65/65 [==============================] - 15s 223ms/step - loss: 0.3768 - accuracy: 1.0000 - val_loss: 0.3781 - val_accuracy: 1.0000\n",
            "Epoch 48/50\n",
            "65/65 [==============================] - 15s 229ms/step - loss: 0.3819 - accuracy: 1.0000 - val_loss: 0.3789 - val_accuracy: 1.0000\n",
            "Epoch 49/50\n",
            "65/65 [==============================] - 15s 229ms/step - loss: 0.3912 - accuracy: 0.9923 - val_loss: 0.3760 - val_accuracy: 1.0000\n",
            "Epoch 50/50\n",
            "65/65 [==============================] - 14s 205ms/step - loss: 0.3824 - accuracy: 1.0000 - val_loss: 0.3761 - val_accuracy: 1.0000\n"
          ]
        }
      ],
      "source": [
        "model = image_classifier.ImageClassifier.create(\n",
        "    train_data = train_data,\n",
        "    validation_data = validation_data,\n",
        "    options=options,\n",
        ")"
      ]
    },
    {
      "cell_type": "markdown",
      "metadata": {
        "id": "-D9Jyp8mXDQX"
      },
      "source": [
        "##Model Evaluation"
      ]
    },
    {
      "cell_type": "code",
      "execution_count": null,
      "metadata": {
        "colab": {
          "base_uri": "https://localhost:8080/"
        },
        "id": "QmET7q-bdhca",
        "outputId": "ecd0f9b6-dd19-47b8-c335-fbbc25610e05"
      },
      "outputs": [
        {
          "name": "stdout",
          "output_type": "stream",
          "text": [
            "1/1 [==============================] - 4s 4s/step - loss: 0.3607 - accuracy: 1.0000\n",
            "Test loss:0.36071881651878357, Test accuracy:1.0\n"
          ]
        }
      ],
      "source": [
        "loss, acc = model.evaluate(test_data)\n",
        "print(f'Test loss:{loss}, Test accuracy:{acc}')"
      ]
    },
    {
      "cell_type": "markdown",
      "metadata": {
        "id": "4CDVD9QLXHQu"
      },
      "source": [
        "##Model Conversion"
      ]
    },
    {
      "cell_type": "code",
      "execution_count": null,
      "metadata": {
        "id": "d8ceuBw5eVFQ"
      },
      "outputs": [],
      "source": [
        "model.export_model()"
      ]
    },
    {
      "cell_type": "code",
      "execution_count": null,
      "metadata": {
        "colab": {
          "base_uri": "https://localhost:8080/",
          "height": 35
        },
        "id": "6_-0xgBteZSR",
        "outputId": "9cc36b8e-5558-46fc-981b-c843f826ea87"
      },
      "outputs": [
        {
          "name": "stdout",
          "output_type": "stream",
          "text": [
            "checkpoint  metadata.json  model.tflite  summaries\n"
          ]
        },
        {
          "data": {
            "application/javascript": "\n    async function download(id, filename, size) {\n      if (!google.colab.kernel.accessAllowed) {\n        return;\n      }\n      const div = document.createElement('div');\n      const label = document.createElement('label');\n      label.textContent = `Downloading \"${filename}\": `;\n      div.appendChild(label);\n      const progress = document.createElement('progress');\n      progress.max = size;\n      div.appendChild(progress);\n      document.body.appendChild(div);\n\n      const buffers = [];\n      let downloaded = 0;\n\n      const channel = await google.colab.kernel.comms.open(id);\n      // Send a message to notify the kernel that we're ready.\n      channel.send({})\n\n      for await (const message of channel.messages) {\n        // Send a message to notify the kernel that we're ready.\n        channel.send({})\n        if (message.buffers) {\n          for (const buffer of message.buffers) {\n            buffers.push(buffer);\n            downloaded += buffer.byteLength;\n            progress.value = downloaded;\n          }\n        }\n      }\n      const blob = new Blob(buffers, {type: 'application/binary'});\n      const a = document.createElement('a');\n      a.href = window.URL.createObjectURL(blob);\n      a.download = filename;\n      div.appendChild(a);\n      a.click();\n      div.remove();\n    }\n  ",
            "text/plain": [
              "<IPython.core.display.Javascript object>"
            ]
          },
          "metadata": {},
          "output_type": "display_data"
        },
        {
          "data": {
            "application/javascript": "download(\"download_330bb731-c19e-4ce0-8494-b40b17b6a895\", \"model.tflite\", 19196851)",
            "text/plain": [
              "<IPython.core.display.Javascript object>"
            ]
          },
          "metadata": {},
          "output_type": "display_data"
        }
      ],
      "source": [
        "!ls exported_model\n",
        "files.download('exported_model/model.tflite')"
      ]
    },
    {
      "cell_type": "markdown",
      "metadata": {
        "id": "IppDtuvqrxvU"
      },
      "source": [
        "### Retraining parameters\n",
        "\n",
        "> Indented block\n",
        "\n",
        "\n",
        "\n",
        "You can further customize how the retraining process runs to adjust training time and potentially increase the retrained model's performance. *These parameters are optional*. Use the `ImageClassifierModelOptions` class and the `HParams` class to set these additional options.\n",
        "\n",
        "Use the `ImageClassifierModelOptions` class parameters to customize the existing model. It has the following customizable parameter that affects model accuracy:\n",
        "* `dropout_rate`: The fraction of the input units to drop. Used in dropout layer. Defaults to 0.05.\n",
        "\n",
        "Use the `HParams` class to customize other parameters related to training and saving the model:\n",
        "\n",
        "* `learning_rate`: The learning rate to use for gradient descent training. Defaults to 0.001.\n",
        "* `batch_size`: Batch size for training. Defaults to 2.\n",
        "* `epochs`: Number of training iterations over the dataset. Defaults to 10.\n",
        "* `steps_per_epoch`: An optional integer that indicates the number of training steps per epoch. If not set, the training pipeline calculates the default steps per epoch as the training dataset size divided by batch size.\n",
        "* `shuffle`: True if the dataset is shuffled before training. Defaults to False.\n",
        "* `do_fine_tuning`: If true, the base module is trained together with the classification layer on top. This defaults to False, which means only the classification layer is trained and pre-trained weights for the base module are frozen.\n",
        "* `l1_regularizer`: A regularizer that applies a L1 regularization penalty. Defaults to 0.0.\n",
        "* `l2_regularizer`: A regularizer that applies a L2 regularization penalty. Defaults to 0.0001.\n",
        "* `label_smoothing`: Amount of label smoothing to apply. See [`tf.keras.losses`](https://www.tensorflow.org/api_docs/python/tf/keras/losses) for more details. Defaults to 0.1.\n",
        "* `do_data_augmentation`: Whether or not the training dataset is augmented by applying random transformations such as cropping, flipping, etc. See [utils.image_preprocessing](https://www.tensorflow.org/api_docs/python/tf/keras/preprocessing/image) for details. Defaults to True.\n",
        "* `decay_samples`: Number of training samples used to calculate the decay steps and create the training optimizer. Defaults to 2,560,000.\n",
        "* `warmup_epochs`: Number of warmup steps for a linear increasing warmup schedule on the learning rate. Used to set up warmup schedule by `model_util.WarmUp`. Defaults to 2.\n",
        "\n"
      ]
    },
    {
      "cell_type": "code",
      "execution_count": null,
      "metadata": {
        "id": "W-OEEwV2r49P"
      },
      "outputs": [],
      "source": [
        "hparams=image_classifier.HParams(epochs=15, export_dir=\"exported_model_2\")\n",
        "options = image_classifier.ImageClassifierOptions(supported_model=spec, hparams=hparams)\n",
        "model_2 = image_classifier.ImageClassifier.create(\n",
        "    train_data = train_data,\n",
        "    validation_data = validation_data,\n",
        "    options=options,\n",
        ")"
      ]
    },
    {
      "cell_type": "code",
      "execution_count": null,
      "metadata": {
        "id": "QaPCKAHlsC1l"
      },
      "outputs": [],
      "source": [
        "loss, accuracy = model_2.evaluate(test_data)"
      ]
    },
    {
      "cell_type": "code",
      "execution_count": null,
      "metadata": {
        "id": "5z2m1G16sJr-"
      },
      "outputs": [],
      "source": [
        "model.export_model()"
      ]
    }
  ],
  "metadata": {
    "colab": {
      "provenance": []
    },
    "kernelspec": {
      "display_name": "Python 3",
      "name": "python3"
    },
    "language_info": {
      "codemirror_mode": {
        "name": "ipython",
        "version": 3
      },
      "file_extension": ".py",
      "mimetype": "text/x-python",
      "name": "python",
      "nbconvert_exporter": "python",
      "pygments_lexer": "ipython3",
      "version": "3.12.4"
    }
  },
  "nbformat": 4,
  "nbformat_minor": 0
}
